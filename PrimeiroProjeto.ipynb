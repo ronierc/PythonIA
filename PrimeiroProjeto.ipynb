{
  "nbformat": 4,
  "nbformat_minor": 0,
  "metadata": {
    "colab": {
      "provenance": [],
      "authorship_tag": "ABX9TyPoYQPs1HXLtIw6MJM+1e6T",
      "include_colab_link": true
    },
    "kernelspec": {
      "name": "python3",
      "display_name": "Python 3"
    },
    "language_info": {
      "name": "python"
    }
  },
  "cells": [
    {
      "cell_type": "markdown",
      "metadata": {
        "id": "view-in-github",
        "colab_type": "text"
      },
      "source": [
        "<a href=\"https://colab.research.google.com/github/ronierc/PythonIA/blob/main/PrimeiroProjeto.ipynb\" target=\"_parent\"><img src=\"https://colab.research.google.com/assets/colab-badge.svg\" alt=\"Open In Colab\"/></a>"
      ]
    },
    {
      "cell_type": "markdown",
      "source": [
        "Instalando SDK do Google"
      ],
      "metadata": {
        "id": "KG0pggNyOxGy"
      }
    },
    {
      "cell_type": "code",
      "execution_count": null,
      "metadata": {
        "id": "cpUrARJDNhhm"
      },
      "outputs": [],
      "source": [
        "!pip install -q -U google-generativeai"
      ]
    },
    {
      "cell_type": "code",
      "source": [
        "import google.generativeai as genai\n",
        "from google.colab import userdata\n",
        "GOOGLE_API_KEY = userdata.get('SECRET_KEY')\n",
        "\n",
        "genai.configure(api_key=GOOGLE_API_KEY)"
      ],
      "metadata": {
        "id": "qwR5YQXOOiO6"
      },
      "execution_count": null,
      "outputs": []
    },
    {
      "cell_type": "markdown",
      "source": [
        "Listar os modelos disponiveis"
      ],
      "metadata": {
        "id": "QnkYK8_qO2RA"
      }
    },
    {
      "cell_type": "code",
      "source": [
        "for m in genai.list_models():\n",
        "  if 'generateContent' in m.supported_generation_methods:\n",
        "    print(m.name)"
      ],
      "metadata": {
        "colab": {
          "base_uri": "https://localhost:8080/",
          "height": 139
        },
        "id": "agwqL_Y6O6bZ",
        "outputId": "e698a57f-ba0e-4455-ad04-9a2557982c55"
      },
      "execution_count": null,
      "outputs": [
        {
          "output_type": "stream",
          "name": "stdout",
          "text": [
            "models/gemini-1.0-pro\n",
            "models/gemini-1.0-pro-001\n",
            "models/gemini-1.0-pro-latest\n",
            "models/gemini-1.0-pro-vision-latest\n",
            "models/gemini-1.5-pro-latest\n",
            "models/gemini-pro\n",
            "models/gemini-pro-vision\n"
          ]
        }
      ]
    },
    {
      "cell_type": "markdown",
      "source": [
        "Configurações do IA STUDIO\n"
      ],
      "metadata": {
        "id": "YloQ_BdqQjAB"
      }
    },
    {
      "cell_type": "code",
      "source": [
        "generation_config = {\n",
        "    \"candidate_count\":1, #Quantidade de respostas\n",
        "    \"top_p\": 0.95,\n",
        "    \"top_k\": 35,\n",
        "    \"temperature\": 0.5\n",
        "}"
      ],
      "metadata": {
        "id": "wDTn-5BpPmOa"
      },
      "execution_count": null,
      "outputs": []
    },
    {
      "cell_type": "code",
      "source": [
        "safety_settings = {\n",
        "    \"HARASSMENT\": \"BLOCK_NONE\",\n",
        "    \"HATE\": \"BLOCK_NONE\",\n",
        "    \"SEXUAL\": \"BLOCK_NONE\",\n",
        "    \"DANGEROUS\": \"BLOCK_NONE\",\n",
        "}"
      ],
      "metadata": {
        "id": "-bCFnFiQQH3h"
      },
      "execution_count": null,
      "outputs": []
    },
    {
      "cell_type": "markdown",
      "source": [
        "Inicializando modelo"
      ],
      "metadata": {
        "id": "TY_V4eLuQlb4"
      }
    },
    {
      "cell_type": "code",
      "source": [
        "model = genai.GenerativeModel(model_name=\"gemini-1.0-pro\", generation_config=generation_config, safety_settings=safety_settings)"
      ],
      "metadata": {
        "id": "PKBTBV1BQnYJ"
      },
      "execution_count": null,
      "outputs": []
    },
    {
      "cell_type": "code",
      "source": [
        "response = model.generate_content(\"Write a story about a magic backpack.\")\n",
        "print(response.text)"
      ],
      "metadata": {
        "colab": {
          "base_uri": "https://localhost:8080/",
          "height": 297
        },
        "id": "A2UeIdnTRLvS",
        "outputId": "62ff9bdc-07d1-4074-c714-c82d1d2becbf"
      },
      "execution_count": null,
      "outputs": [
        {
          "output_type": "stream",
          "name": "stdout",
          "text": [
            "In the quaint town of Willow Creek, amidst the rolling hills and whispering willows, there lived an ordinary boy named Ethan. Ethan's life took an extraordinary turn when he stumbled upon an unassuming backpack hidden in his grandmother's attic.\n",
            "\n",
            "As he unzipped the dusty exterior, a faint shimmer caught his eye. Inside, nestled among forgotten toys and faded photographs, lay a backpack unlike any he had ever seen. Its fabric shimmered with iridescent hues, and intricate runes adorned its surface.\n",
            "\n",
            "Intrigued, Ethan slipped the backpack onto his shoulders. As he did, a surge of energy coursed through his body. The runes began to glow, and with a gentle hum, the backpack transformed.\n",
            "\n",
            "The ordinary zippers became portals to different dimensions. The side pockets could hold an infinite amount of items, from books to toys. And the main compartment opened into a vast, ethereal space where Ethan's imagination could soar.\n",
            "\n",
            "Ethan embarked on countless adventures with his magical backpack. He traveled to distant lands, met mythical creatures, and solved mysteries that had plagued Willow Creek for generations. The backpack became his trusted companion, a source of endless possibilities.\n",
            "\n",
            "One sunny afternoon, as Ethan explored the Enchanted Forest, he encountered a group of children who were lost and frightened. Without hesitation, he used the backpack's portals to transport them back to the safety of their village.\n",
            "\n",
            "Word of Ethan's extraordinary backpack spread throughout the town. People came from far and wide to witness its wonders. Ethan used his powers wisely, helping those in need and bringing joy to all who crossed his path.\n",
            "\n",
            "As the years passed, the magic backpack became a symbol of hope and wonder in Willow Creek. It was a reminder that even in the most ordinary of objects, there could be extraordinary potential. And so, the legend of the Magic Backpack was passed down through generations, inspiring countless children to dream big and believe in the impossible.\n"
          ]
        }
      ]
    },
    {
      "cell_type": "code",
      "source": [
        "chat = model.start_chat(history=[])"
      ],
      "metadata": {
        "id": "lcCUfqGwRbgQ"
      },
      "execution_count": null,
      "outputs": []
    },
    {
      "cell_type": "code",
      "source": [
        "prompt = input(\"Esperando prompt: \")\n",
        "\n",
        "while prompt != \"fim\":\n",
        "  response = chat.send_message(prompt)\n",
        "  print(\"Resposta: \", response.text, \"\\n\")\n",
        "  prompt = input(\"Esperando prompt: \")"
      ],
      "metadata": {
        "colab": {
          "base_uri": "https://localhost:8080/",
          "height": 1000
        },
        "collapsed": true,
        "id": "mO0wxoxqRn-F",
        "outputId": "f0dfa507-8205-4465-bd07-7d431b3c83f2"
      },
      "execution_count": null,
      "outputs": [
        {
          "output_type": "stream",
          "name": "stdout",
          "text": [
            "Esperando prompt: Nomes de cachorro branco\n",
            "Resposta:  **Nomes Clássicos:**\n",
            "\n",
            "* Casper\n",
            "* Neve\n",
            "* Pérola\n",
            "* Algodão\n",
            "* Bola de Neve\n",
            "\n",
            "**Nomes Inspirados na Natureza:**\n",
            "\n",
            "* Nuvem\n",
            "* Gelo\n",
            "* Floco de Neve\n",
            "* Aurora\n",
            "* Lua\n",
            "\n",
            "**Nomes Inspirados em Alimentos:**\n",
            "\n",
            "* Marshmallow\n",
            "* Merengue\n",
            "* Chantilly\n",
            "* Leite\n",
            "* Queijo\n",
            "\n",
            "**Nomes Inspirados em Personagens:**\n",
            "\n",
            "* Gandalf (O Senhor dos Anéis)\n",
            "* Samwise (O Senhor dos Anéis)\n",
            "* Luna (Harry Potter)\n",
            "* Dobby (Harry Potter)\n",
            "* Olaf (Frozen)\n",
            "\n",
            "**Nomes Inspirados em Celebridades:**\n",
            "\n",
            "* Marilyn (Marilyn Monroe)\n",
            "* Elvis (Elvis Presley)\n",
            "* Madonna\n",
            "* Lady Gaga\n",
            "* Ariana\n",
            "\n",
            "**Nomes Únicos e Criativos:**\n",
            "\n",
            "* Nimbus\n",
            "* Celeste\n",
            "* Ivory\n",
            "* Alabaster\n",
            "* Zephyr\n",
            "\n",
            "**Nomes Inspirados em Cores:**\n",
            "\n",
            "* Branco\n",
            "* Marfim\n",
            "* Prata\n",
            "* Platina\n",
            "* Pérola \n",
            "\n"
          ]
        },
        {
          "output_type": "error",
          "ename": "KeyboardInterrupt",
          "evalue": "Interrupted by user",
          "traceback": [
            "\u001b[0;31m---------------------------------------------------------------------------\u001b[0m",
            "\u001b[0;31mKeyboardInterrupt\u001b[0m                         Traceback (most recent call last)",
            "\u001b[0;32m<ipython-input-16-f15dfb4aeeae>\u001b[0m in \u001b[0;36m<cell line: 3>\u001b[0;34m()\u001b[0m\n\u001b[1;32m      4\u001b[0m   \u001b[0mresponse\u001b[0m \u001b[0;34m=\u001b[0m \u001b[0mchat\u001b[0m\u001b[0;34m.\u001b[0m\u001b[0msend_message\u001b[0m\u001b[0;34m(\u001b[0m\u001b[0mprompt\u001b[0m\u001b[0;34m)\u001b[0m\u001b[0;34m\u001b[0m\u001b[0;34m\u001b[0m\u001b[0m\n\u001b[1;32m      5\u001b[0m   \u001b[0mprint\u001b[0m\u001b[0;34m(\u001b[0m\u001b[0;34m\"Resposta: \"\u001b[0m\u001b[0;34m,\u001b[0m \u001b[0mresponse\u001b[0m\u001b[0;34m.\u001b[0m\u001b[0mtext\u001b[0m\u001b[0;34m,\u001b[0m \u001b[0;34m\"\\n\"\u001b[0m\u001b[0;34m)\u001b[0m\u001b[0;34m\u001b[0m\u001b[0;34m\u001b[0m\u001b[0m\n\u001b[0;32m----> 6\u001b[0;31m   \u001b[0mprompt\u001b[0m \u001b[0;34m=\u001b[0m \u001b[0minput\u001b[0m\u001b[0;34m(\u001b[0m\u001b[0;34m\"Esperando prompt: \"\u001b[0m\u001b[0;34m)\u001b[0m\u001b[0;34m\u001b[0m\u001b[0;34m\u001b[0m\u001b[0m\n\u001b[0m",
            "\u001b[0;32m/usr/local/lib/python3.10/dist-packages/ipykernel/kernelbase.py\u001b[0m in \u001b[0;36mraw_input\u001b[0;34m(self, prompt)\u001b[0m\n\u001b[1;32m    849\u001b[0m                 \u001b[0;34m\"raw_input was called, but this frontend does not support input requests.\"\u001b[0m\u001b[0;34m\u001b[0m\u001b[0;34m\u001b[0m\u001b[0m\n\u001b[1;32m    850\u001b[0m             )\n\u001b[0;32m--> 851\u001b[0;31m         return self._input_request(str(prompt),\n\u001b[0m\u001b[1;32m    852\u001b[0m             \u001b[0mself\u001b[0m\u001b[0;34m.\u001b[0m\u001b[0m_parent_ident\u001b[0m\u001b[0;34m,\u001b[0m\u001b[0;34m\u001b[0m\u001b[0;34m\u001b[0m\u001b[0m\n\u001b[1;32m    853\u001b[0m             \u001b[0mself\u001b[0m\u001b[0;34m.\u001b[0m\u001b[0m_parent_header\u001b[0m\u001b[0;34m,\u001b[0m\u001b[0;34m\u001b[0m\u001b[0;34m\u001b[0m\u001b[0m\n",
            "\u001b[0;32m/usr/local/lib/python3.10/dist-packages/ipykernel/kernelbase.py\u001b[0m in \u001b[0;36m_input_request\u001b[0;34m(self, prompt, ident, parent, password)\u001b[0m\n\u001b[1;32m    893\u001b[0m             \u001b[0;32mexcept\u001b[0m \u001b[0mKeyboardInterrupt\u001b[0m\u001b[0;34m:\u001b[0m\u001b[0;34m\u001b[0m\u001b[0;34m\u001b[0m\u001b[0m\n\u001b[1;32m    894\u001b[0m                 \u001b[0;31m# re-raise KeyboardInterrupt, to truncate traceback\u001b[0m\u001b[0;34m\u001b[0m\u001b[0;34m\u001b[0m\u001b[0m\n\u001b[0;32m--> 895\u001b[0;31m                 \u001b[0;32mraise\u001b[0m \u001b[0mKeyboardInterrupt\u001b[0m\u001b[0;34m(\u001b[0m\u001b[0;34m\"Interrupted by user\"\u001b[0m\u001b[0;34m)\u001b[0m \u001b[0;32mfrom\u001b[0m \u001b[0;32mNone\u001b[0m\u001b[0;34m\u001b[0m\u001b[0;34m\u001b[0m\u001b[0m\n\u001b[0m\u001b[1;32m    896\u001b[0m             \u001b[0;32mexcept\u001b[0m \u001b[0mException\u001b[0m \u001b[0;32mas\u001b[0m \u001b[0me\u001b[0m\u001b[0;34m:\u001b[0m\u001b[0;34m\u001b[0m\u001b[0;34m\u001b[0m\u001b[0m\n\u001b[1;32m    897\u001b[0m                 \u001b[0mself\u001b[0m\u001b[0;34m.\u001b[0m\u001b[0mlog\u001b[0m\u001b[0;34m.\u001b[0m\u001b[0mwarning\u001b[0m\u001b[0;34m(\u001b[0m\u001b[0;34m\"Invalid Message:\"\u001b[0m\u001b[0;34m,\u001b[0m \u001b[0mexc_info\u001b[0m\u001b[0;34m=\u001b[0m\u001b[0;32mTrue\u001b[0m\u001b[0;34m)\u001b[0m\u001b[0;34m\u001b[0m\u001b[0;34m\u001b[0m\u001b[0m\n",
            "\u001b[0;31mKeyboardInterrupt\u001b[0m: Interrupted by user"
          ]
        }
      ]
    },
    {
      "cell_type": "code",
      "source": [
        "#Melhorando a visualização\n",
        "#Código disponível em https://ai.google.dev/tutorials/python_quickstart#import_packages\n",
        "import textwrap\n",
        "from IPython.display import display\n",
        "from IPython.display import Markdown\n",
        "\n",
        "def to_markdown(text):\n",
        "  text = text.replace('•', '  *')\n",
        "  return Markdown(textwrap.indent(text, '> ', predicate=lambda _: True))\n",
        "\n",
        "#Imprimindo o histórico\n",
        "for message in chat.history:\n",
        "  display(to_markdown(f'**{message.role}**: {message.parts[0].text}'))\n",
        "  print('-------------------------------------------')"
      ],
      "metadata": {
        "colab": {
          "base_uri": "https://localhost:8080/",
          "height": 1000
        },
        "id": "fWXTiHEFU7WH",
        "outputId": "d75a0a52-6851-47ae-aa87-bcc740ded2d8"
      },
      "execution_count": null,
      "outputs": [
        {
          "output_type": "display_data",
          "data": {
            "text/plain": [
              "<IPython.core.display.Markdown object>"
            ],
            "text/markdown": "> **user**: Me de ideias de temas para TCC de biomedicina?"
          },
          "metadata": {}
        },
        {
          "output_type": "stream",
          "name": "stdout",
          "text": [
            "-------------------------------------------\n"
          ]
        },
        {
          "output_type": "display_data",
          "data": {
            "text/plain": [
              "<IPython.core.display.Markdown object>"
            ],
            "text/markdown": "> **model**: **Diagnóstico e Tratamento**\n> \n> * Desenvolvimento de novos métodos diagnósticos para doenças específicas\n> * Avaliação da eficácia de novas terapias para doenças crônicas\n> * Otimização de protocolos de tratamento para melhorar os resultados do paciente\n> * Estudo da resistência a medicamentos e desenvolvimento de estratégias para superá-la\n> * Investigação de biomarcadores para predizer resposta ao tratamento\n> \n> **Biologia Molecular e Celular**\n> \n> * Caracterização molecular de novas mutações ou variantes genéticas associadas a doenças\n> * Estudo dos mecanismos moleculares subjacentes a doenças complexas\n> * Desenvolvimento de novas terapias genéticas ou celulares para doenças genéticas\n> * Investigação da interação entre genes e fatores ambientais no desenvolvimento de doenças\n> * Análise da expressão gênica e proteômica em doenças\n> \n> **Imunologia e Microbiologia**\n> \n> * Desenvolvimento de novas vacinas ou tratamentos para doenças infecciosas\n> * Estudo da resposta imune a patógenos específicos\n> * Investigação da microbiota e seu papel na saúde e doença\n> * Avaliação da eficácia de antimicrobianos e desenvolvimento de novas estratégias de tratamento\n> * Estudo de doenças autoimunes e desenvolvimento de novas terapias\n> \n> **Biotecnologia e Engenharia Biomédica**\n> \n> * Desenvolvimento de novos dispositivos biomédicos para diagnóstico ou tratamento\n> * Engenharia de tecidos e órgãos para transplantes\n> * Aplicação de inteligência artificial e aprendizado de máquina em biomedicina\n> * Estudo de materiais biocompatíveis e desenvolvimento de novas próteses\n> * Investigação de novas fontes de energia renovável para aplicações biomédicas\n> \n> **Saúde Pública e Epidemiologia**\n> \n> * Avaliação de fatores de risco e determinantes sociais da saúde\n> * Estudo da distribuição e tendências de doenças na população\n> * Desenvolvimento de intervenções de saúde pública para melhorar os resultados de saúde\n> * Investigação de surtos de doenças e desenvolvimento de estratégias de controle\n> * Avaliação do impacto das políticas de saúde na saúde da população"
          },
          "metadata": {}
        },
        {
          "output_type": "stream",
          "name": "stdout",
          "text": [
            "-------------------------------------------\n"
          ]
        },
        {
          "output_type": "display_data",
          "data": {
            "text/plain": [
              "<IPython.core.display.Markdown object>"
            ],
            "text/markdown": "> **user**: Ideia de TCC de Biomedicina"
          },
          "metadata": {}
        },
        {
          "output_type": "stream",
          "name": "stdout",
          "text": [
            "-------------------------------------------\n"
          ]
        },
        {
          "output_type": "display_data",
          "data": {
            "text/plain": [
              "<IPython.core.display.Markdown object>"
            ],
            "text/markdown": "> **model**: **Título:** Avaliação da eficácia de um novo biomarcador para predizer a resposta ao tratamento em pacientes com câncer de mama\n> \n> **Introdução:**\n> * O câncer de mama é o tipo de câncer mais comum em mulheres em todo o mundo.\n> * A resposta ao tratamento varia significativamente entre os pacientes, destacando a necessidade de biomarcadores preditivos para orientar as decisões terapêuticas.\n> \n> **Objetivo:**\n> * Avaliar a eficácia de um novo biomarcador, denominado Biomarcador X, para predizer a resposta ao tratamento em pacientes com câncer de mama.\n> \n> **Métodos:**\n> * Estudo prospectivo envolvendo um grande número de pacientes com câncer de mama recém-diagnosticado.\n> * Os pacientes serão submetidos a testes para o Biomarcador X antes de iniciar o tratamento.\n> * Os dados clínicos e de tratamento serão coletados e analisados para determinar a correlação entre os níveis do Biomarcador X e a resposta ao tratamento.\n> \n> **Resultados esperados:**\n> * Os resultados deste estudo fornecerão informações valiosas sobre a eficácia do Biomarcador X como um preditor de resposta ao tratamento em pacientes com câncer de mama.\n> * Se o Biomarcador X for comprovadamente eficaz, ele pode ser usado para orientar as decisões terapêuticas, otimizando os resultados do tratamento e reduzindo a toxicidade desnecessária.\n> \n> **Conclusão:**\n> * Este estudo tem o potencial de melhorar significativamente o tratamento do câncer de mama, fornecendo um biomarcador preciso para prever a resposta ao tratamento e personalizar as estratégias terapêuticas."
          },
          "metadata": {}
        },
        {
          "output_type": "stream",
          "name": "stdout",
          "text": [
            "-------------------------------------------\n"
          ]
        }
      ]
    },
    {
      "cell_type": "code",
      "source": [
        "#Melhorando a visualização\n",
        "#Código disponível em https://ai.google.dev/tutorials/python_quickstart#import_packages\n",
        "import textwrap\n",
        "from IPython.display import display\n",
        "from IPython.display import Markdown\n",
        "\n",
        "def to_markdown(text):\n",
        "  text = text.replace('•', '  *')\n",
        "  return Markdown(textwrap.indent(text, '> ', predicate=lambda _: True))\n",
        "\n",
        "#Imprimindo o histórico\n",
        "for message in chat.history:\n",
        "  display(to_markdown(f'**{message.role}**: {message.parts[0].text}'))\n",
        "  print('-------------------------------------------')"
      ],
      "metadata": {
        "id": "EUtVIx0bVBWp"
      },
      "execution_count": null,
      "outputs": []
    }
  ]
}